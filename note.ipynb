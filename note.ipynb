{
 "cells": [
  {
   "cell_type": "markdown",
   "metadata": {},
   "source": [
    "# Курсовая работа"
   ]
  },
  {
   "cell_type": "code",
   "execution_count": 5,
   "metadata": {},
   "outputs": [
    {
     "name": "stdout",
     "output_type": "stream",
     "text": [
      "Hi\n"
     ]
    }
   ],
   "source": [
    "print(\"Hi\")"
   ]
  },
  {
   "cell_type": "markdown",
   "metadata": {},
   "source": [
    "## Проделаная работа:\n",
    "1. начал читать книгу\n",
    "2. Написал НС для распознования цифр\n",
    "3. Нашел базу данных Cedar\n",
    "4. Посчитал средний размер изображений в базе\n",
    "5. Написал скрипт обработки изображений\n",
    "6. написал парсер данных в НС\n",
    "7. Запустил 2 с данными из 6\n",
    "8. НС обучается в обратную сторону(Прям как я)\n",
    "9. Удалил курсовую работу\n",
    "10. Создал этот файл"
   ]
  },
  {
   "cell_type": "markdown",
   "metadata": {},
   "source": [
    "## Обработка изображения:"
   ]
  },
  {
   "cell_type": "code",
   "execution_count": 2,
   "metadata": {},
   "outputs": [
    {
     "ename": "ModuleNotFoundError",
     "evalue": "No module named 'numpy'",
     "output_type": "error",
     "traceback": [
      "\u001b[0;31m---------------------------------------------------------------------------\u001b[0m",
      "\u001b[0;31mModuleNotFoundError\u001b[0m                       Traceback (most recent call last)",
      "Cell \u001b[0;32mIn[2], line 1\u001b[0m\n\u001b[0;32m----> 1\u001b[0m \u001b[39mimport\u001b[39;00m \u001b[39mnumpy\u001b[39;00m \u001b[39mas\u001b[39;00m \u001b[39mnp\u001b[39;00m\n\u001b[1;32m      2\u001b[0m \u001b[39mimport\u001b[39;00m \u001b[39mcv2\u001b[39;00m \u001b[39mas\u001b[39;00m \u001b[39mcv\u001b[39;00m\n\u001b[1;32m      4\u001b[0m \u001b[39m# Расчет порога бинаризации методом Оцу \u001b[39;00m\n",
      "\u001b[0;31mModuleNotFoundError\u001b[0m: No module named 'numpy'"
     ]
    }
   ],
   "source": [
    "import numpy as np\n",
    "import cv2 as cv\n",
    "\n",
    "# Расчет порога бинаризации методом Оцу \n",
    "def otsy(img):\n",
    "    bins_num = 256\n",
    "    hist, bins_edges = np.histogram(img, bins_num)    # построение гистограммы значений пикселей\n",
    "    bin_mids = (bins_edges[:-1] + bins_edges[1:]) / 2 # Нахождение центра каждого отрезка\n",
    "    # Итерация по массиву и нахождение вероятностей каждого значения пикселя\n",
    "    weight1 = np.cumsum(hist)\n",
    "    weight2 = np.cumsum(hist[::-1])[::-1]\n",
    "    mean1 = np.cumsum(hist * bin_mids) / weight1\n",
    "    mean2 = (np.cumsum((hist * bin_mids)[::-1]) / weight2[::-1])[::-1]\n",
    "\n",
    "    inter_class_variance = weight1[:-1] * weight2[1:] * (mean1[:-1] - mean2[1:]) ** 2\n",
    "    index_of_max_val = np.argmax(inter_class_variance)\n",
    "    threshold = bin_mids[:-1][index_of_max_val]\n",
    "    return threshold\n",
    "\n",
    "nX = 300\n",
    "nY = 150\n",
    "right_ratio = nX/nY\n",
    "\n",
    "file_name = \"/root/VScode/course_work/DATA/Cedar/1/original_1_15.png\"\n",
    "original_img = cv.imread(file_name)\n",
    "original_img.show()"
   ]
  }
 ],
 "metadata": {
  "kernelspec": {
   "display_name": "env",
   "language": "python",
   "name": "python3"
  },
  "language_info": {
   "codemirror_mode": {
    "name": "ipython",
    "version": 3
   },
   "file_extension": ".py",
   "mimetype": "text/x-python",
   "name": "python",
   "nbconvert_exporter": "python",
   "pygments_lexer": "ipython3"
  },
  "orig_nbformat": 4,
  "vscode": {
   "interpreter": {
    "hash": "67689b3763ac54e56abebfc021988853e735a15ac9c2ae45710fea55aca21bd9"
   }
  }
 },
 "nbformat": 4,
 "nbformat_minor": 2
}
